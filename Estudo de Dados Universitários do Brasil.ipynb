{
 "cells": [
  {
   "cell_type": "markdown",
   "id": "c59c5b1c",
   "metadata": {},
   "source": [
    "# Estudo retrospectivo de desempenho acadêmico no Ensino Superior Nacional \n",
    "## Sob ponto de vista de sexo do participante considerando aspectos socioeconômicos"
   ]
  },
  {
   "cell_type": "code",
   "execution_count": 5,
   "id": "ee10bf43",
   "metadata": {},
   "outputs": [],
   "source": [
    "## Import libraries\n",
    "import scipy.stats\n",
    "import statsmodels.stats.power as smp\n",
    "import matplotlib.pyplot as plt\n",
    "import os "
   ]
  },
  {
   "cell_type": "code",
   "execution_count": 6,
   "id": "b838591c",
   "metadata": {},
   "outputs": [
    {
     "data": {
      "text/plain": [
       "17.44423637160863"
      ]
     },
     "execution_count": 6,
     "metadata": {},
     "output_type": "execute_result"
    }
   ],
   "source": [
    "power_analysis = smp.TTestIndPower()\n",
    "sample_size = power_analysis.solve_power(effect_size=0.75, power=0.7, alpha=0.1)\n",
    "sample_size"
   ]
  },
  {
   "cell_type": "markdown",
   "id": "b86d1367",
   "metadata": {},
   "source": [
    "## Importação dos dados\n",
    "Os dados utilizados são dos ENADEs feitos de 2010 a 2019 no Brasil."
   ]
  },
  {
   "cell_type": "code",
   "execution_count": 11,
   "id": "6d08a5d8",
   "metadata": {},
   "outputs": [
    {
     "data": {
      "text/plain": [
       "['microdados_enade_2010.txt',\n",
       " 'microdados_enade_2011.txt',\n",
       " 'microdados_enade_2012.txt',\n",
       " 'microdados_enade_2013.txt',\n",
       " 'microdados_enade_2014.txt',\n",
       " 'microdados_enade_2015.txt',\n",
       " 'microdados_enade_2016.txt',\n",
       " 'microdados_enade_2017.txt',\n",
       " 'microdados_enade_2018.txt',\n",
       " 'microdados_enade_2019.csv']"
      ]
     },
     "execution_count": 11,
     "metadata": {},
     "output_type": "execute_result"
    }
   ],
   "source": [
    "## Get list of files in \"Dados/ENADE\" directory\n",
    "files = os.listdir(\"Dados/ENADE\")\n",
    "\n",
    "## Get list of csv or txt data, excluding year 2009\n",
    "enade_list = [enade for enade in files \n",
    "              if ((\".csv\" in enade) or (\".txt\" in enade)) \n",
    "              and (\"2009\" not in enade)]\n",
    "\n",
    "enade_list"
   ]
  },
  {
   "cell_type": "code",
   "execution_count": null,
   "id": "a2aa85cf",
   "metadata": {},
   "outputs": [],
   "source": []
  }
 ],
 "metadata": {
  "kernelspec": {
   "display_name": "Python 3 (ipykernel)",
   "language": "python",
   "name": "python3"
  },
  "language_info": {
   "codemirror_mode": {
    "name": "ipython",
    "version": 3
   },
   "file_extension": ".py",
   "mimetype": "text/x-python",
   "name": "python",
   "nbconvert_exporter": "python",
   "pygments_lexer": "ipython3",
   "version": "3.9.7"
  }
 },
 "nbformat": 4,
 "nbformat_minor": 5
}
