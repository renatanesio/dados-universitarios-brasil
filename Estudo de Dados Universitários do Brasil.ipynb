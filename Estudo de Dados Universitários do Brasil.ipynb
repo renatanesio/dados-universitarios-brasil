{
 "cells": [
  {
   "cell_type": "markdown",
   "id": "c59c5b1c",
   "metadata": {},
   "source": [
    "# Estudo retrospectivo de desempenho acadêmico no Ensino Superior Nacional \n",
    "## Sob ponto de vista de sexo do participante considerando aspectos socioeconômicos"
   ]
  },
  {
   "cell_type": "code",
   "execution_count": 20,
   "id": "ee10bf43",
   "metadata": {},
   "outputs": [],
   "source": [
    "## Import libraries\n",
    "import scipy.stats\n",
    "import statsmodels.stats.power as smp\n",
    "import matplotlib.pyplot as plt\n",
    "import os \n",
    "import warnings\n",
    "warnings.filterwarnings('ignore')"
   ]
  },
  {
   "cell_type": "code",
   "execution_count": 3,
   "id": "b838591c",
   "metadata": {},
   "outputs": [
    {
     "data": {
      "text/plain": [
       "17.44423637160863"
      ]
     },
     "execution_count": 3,
     "metadata": {},
     "output_type": "execute_result"
    }
   ],
   "source": [
    "power_analysis = smp.TTestIndPower()\n",
    "sample_size = power_analysis.solve_power(effect_size=0.75, power=0.7, alpha=0.1)\n",
    "sample_size"
   ]
  },
  {
   "cell_type": "markdown",
   "id": "b86d1367",
   "metadata": {},
   "source": [
    "## Importação dos dados\n",
    "Os dados utilizados são dos ENADEs feitos de 2010 a 2019 no Brasil."
   ]
  },
  {
   "cell_type": "code",
   "execution_count": 9,
   "id": "6d08a5d8",
   "metadata": {},
   "outputs": [],
   "source": [
    "## Get list of files in \"Dados/ENADE\" directory\n",
    "files = os.listdir(\"Dados/ENADE\")\n",
    "\n",
    "## Get list of csv or txt data, excluding year 2009\n",
    "enade_list = [enade for enade in files \n",
    "              if ((\".csv\" in enade) or (\".txt\" in enade)) \n",
    "              and (\"2009\" not in enade)]\n",
    "\n",
    "# enade_list"
   ]
  },
  {
   "cell_type": "code",
   "execution_count": 10,
   "id": "df8c4e67",
   "metadata": {},
   "outputs": [],
   "source": [
    "## Get list of years\n",
    "anos = [ano.split(\"_\")[2].split(\".\")[0] for ano in enade_list]\n",
    "# anos"
   ]
  },
  {
   "cell_type": "code",
   "execution_count": 16,
   "id": "f6dfa75c",
   "metadata": {},
   "outputs": [],
   "source": [
    "## Get dictionary of ENADE data, indexed by year (data not yet included)\n",
    "dados_enade_completo = {ano: None for ano in anos}\n",
    "colunas = {ano: None for ano in anos}"
   ]
  },
  {
   "cell_type": "markdown",
   "id": "10b8322b",
   "metadata": {},
   "source": [
    "## Segmentação e filtragem"
   ]
  },
  {
   "cell_type": "code",
   "execution_count": 21,
   "id": "238a6b89",
   "metadata": {},
   "outputs": [
    {
     "name": "stdout",
     "output_type": "stream",
     "text": [
      "Finalizado!\n"
     ]
    }
   ],
   "source": [
    "import pandas as pd\n",
    "\n",
    "## List of columns\n",
    "colunas['2010'] = ['CO_MODALIDADE', 'TP_SEXO', 'NT_GER', 'QE_I02', 'QE_I13', 'QE_I14', 'QE_I03', 'QE_I05', 'QE_I06', 'QE_I07', 'QE_I12', 'QE_I18', 'QE_I01', 'QE_I20', 'ANO_FIM_2G']\n",
    "colunas['2011'] = ['CO_MODALIDADE', 'TP_SEXO', 'NT_GER', 'QE_I02', 'QE_I13', 'QE_I14', 'QE_I03', 'QE_I05', 'QE_I06', 'QE_I07', 'QE_I12', 'QE_I18', 'QE_I01', 'QE_I20', 'ANO_FIM_2G']\n",
    "colunas['2012'] = ['CO_MODALIDADE', 'TP_SEXO', 'NT_GER', 'QE_I02', 'QE_I13', 'QE_I14', 'QE_I03', 'QE_I05', 'QE_I06', 'QE_I07', 'QE_I12', 'QE_I18', 'QE_I01', 'QE_I20', 'ANO_FIM_2G']\n",
    "colunas['2013'] = ['CO_MODALIDADE', 'TP_SEXO', 'NT_GER', 'QE_I02', 'QE_I04', 'QE_I05', 'QE_I06', 'QE_I07', 'QE_I08', 'QE_I09', 'QE_I14', 'QE_I16', 'QE_I01', 'QE_I22', 'ANO_FIM_2G']\n",
    "colunas['2014'] = ['CO_MODALIDADE', 'TP_SEXO', 'NT_GER', 'QE_I02', 'QE_I04', 'QE_I05', 'QE_I06', 'QE_I08', 'QE_I09', 'QE_I10', 'QE_I15', 'QE_I17', 'QE_I21', 'QE_I23', 'ANO_FIM_2G']\n",
    "colunas['2015'] = ['CO_MODALIDADE', 'TP_SEXO', 'NT_GER', 'QE_I02', 'QE_I04', 'QE_I05', 'QE_I06', 'QE_I08', 'QE_I09', 'QE_I10', 'QE_I15', 'QE_I17', 'QE_I21', 'QE_I23', 'ANO_FIM_2G']\n",
    "colunas['2016'] = ['CO_MODALIDADE', 'TP_SEXO', 'NT_GER', 'QE_I02', 'QE_I04', 'QE_I05', 'QE_I06', 'QE_I08', 'QE_I09', 'QE_I10', 'QE_I15', 'QE_I17', 'QE_I21', 'QE_I23', 'ANO_FIM_2G']\n",
    "colunas['2017'] = ['CO_MODALIDADE', 'TP_SEXO', 'NT_GER', 'QE_I02', 'QE_I04', 'QE_I05', 'QE_I06', 'QE_I08', 'QE_I09', 'QE_I10', 'QE_I15', 'QE_I17', 'QE_I21', 'QE_I23', 'ANO_FIM_EM']\n",
    "colunas['2018'] = ['CO_MODALIDADE', 'TP_SEXO', 'NT_GER', 'QE_I02', 'QE_I04', 'QE_I05', 'QE_I06', 'QE_I08', 'QE_I09', 'QE_I10', 'QE_I15', 'QE_I17', 'QE_I21', 'QE_I23', 'ANO_FIM_EM']\n",
    "colunas['2019'] = ['CO_MODALIDADE', 'TP_SEXO', 'NT_GER', 'QE_I02', 'QE_I04', 'QE_I05', 'QE_I06', 'QE_I08', 'QE_I09', 'QE_I10', 'QE_I15', 'QE_I17', 'QE_I01', 'QE_I23', 'ANO_FIM_EM']\n",
    "\n",
    "for enade in enade_list:\n",
    "  ## Get year\n",
    "  ano = enade.split(\"_\")[2].split(\".\")[0]\n",
    "  ## Store data in dictionary indexed by year\n",
    "  if ano == '2010' or ano == '2011' or ano == '2012' or ano == '2013' or ano == '2014' or ano == '2015' or ano == '2016':\n",
    "    dados_enade_completo[ano] = pd.read_csv(\"Dados/ENADE/\" + enade, encoding= 'unicode_escape', delimiter=';', decimal = '.', usecols=colunas[ano], low_memory=False)\n",
    "  else:\n",
    "    dados_enade_completo[ano] = pd.read_csv(\"Dados/ENADE/\" + enade, encoding= 'unicode_escape', delimiter=';', decimal = ',', usecols=colunas[ano], low_memory=False)\n",
    "  # print(len(dados_enade_completo[ano]))\n",
    "  \n",
    "novos_nomes = ['MODALIDADE', 'SEXO', 'NOTA', 'Q01', 'Q02', 'Q03', 'Q04', 'Q05', 'Q06', 'Q07', 'Q08', 'Q09', 'Q10', 'Q11', 'Q12']\n",
    "\n",
    "for ano in anos:\n",
    "    for item in range(0, len(novos_nomes)):\n",
    "        dados_enade_completo[ano].rename(columns={colunas[ano][item]: novos_nomes[item]}, inplace=True)\n",
    "\n",
    "dados_enade = {ano: dados_enade_completo[ano].dropna() for ano in anos}\n",
    "\n",
    "# Corrigir labels de modalidade do ano de 2018 (0: EAD, 1: Presencial)\n",
    "dados_enade['2018'][\"MODALIDADE\"].replace({2: 0}, inplace=True)\n",
    "print('Finalizado!')"
   ]
  },
  {
   "cell_type": "code",
   "execution_count": null,
   "id": "da574a37",
   "metadata": {},
   "outputs": [],
   "source": []
  }
 ],
 "metadata": {
  "kernelspec": {
   "display_name": "Python 3 (ipykernel)",
   "language": "python",
   "name": "python3"
  },
  "language_info": {
   "codemirror_mode": {
    "name": "ipython",
    "version": 3
   },
   "file_extension": ".py",
   "mimetype": "text/x-python",
   "name": "python",
   "nbconvert_exporter": "python",
   "pygments_lexer": "ipython3",
   "version": "3.9.7"
  }
 },
 "nbformat": 4,
 "nbformat_minor": 5
}
